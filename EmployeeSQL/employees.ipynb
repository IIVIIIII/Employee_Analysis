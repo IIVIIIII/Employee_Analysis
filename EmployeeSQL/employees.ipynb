{
 "cells": [
  {
   "cell_type": "code",
   "execution_count": 1,
   "metadata": {},
   "outputs": [],
   "source": [
    "# Import stuff\n",
    "import pandas as pd\n",
    "import matplotlib.pyplot as plt\n",
    "from config import password\n",
    "from sqlalchemy import create_engine\n",
    "engine = create_engine('postgresql://postgres:' + password + '@localhost:5432/employees')\n"
   ]
  },
  {
   "cell_type": "code",
   "execution_count": 5,
   "metadata": {},
   "outputs": [
    {
     "data": {
      "text/html": [
       "<div>\n",
       "<style scoped>\n",
       "    .dataframe tbody tr th:only-of-type {\n",
       "        vertical-align: middle;\n",
       "    }\n",
       "\n",
       "    .dataframe tbody tr th {\n",
       "        vertical-align: top;\n",
       "    }\n",
       "\n",
       "    .dataframe thead th {\n",
       "        text-align: right;\n",
       "    }\n",
       "</style>\n",
       "<table border=\"1\" class=\"dataframe\">\n",
       "  <thead>\n",
       "    <tr style=\"text-align: right;\">\n",
       "      <th></th>\n",
       "      <th>Title</th>\n",
       "      <th>Salary</th>\n",
       "    </tr>\n",
       "  </thead>\n",
       "  <tbody>\n",
       "    <tr>\n",
       "      <th>0</th>\n",
       "      <td>Staff</td>\n",
       "      <td>78228</td>\n",
       "    </tr>\n",
       "    <tr>\n",
       "      <th>1</th>\n",
       "      <td>Engineer</td>\n",
       "      <td>72488</td>\n",
       "    </tr>\n",
       "    <tr>\n",
       "      <th>2</th>\n",
       "      <td>Staff</td>\n",
       "      <td>42365</td>\n",
       "    </tr>\n",
       "    <tr>\n",
       "      <th>3</th>\n",
       "      <td>Senior Engineer</td>\n",
       "      <td>55881</td>\n",
       "    </tr>\n",
       "    <tr>\n",
       "      <th>4</th>\n",
       "      <td>Senior Engineer</td>\n",
       "      <td>41538</td>\n",
       "    </tr>\n",
       "    <tr>\n",
       "      <th>...</th>\n",
       "      <td>...</td>\n",
       "      <td>...</td>\n",
       "    </tr>\n",
       "    <tr>\n",
       "      <th>300019</th>\n",
       "      <td>Senior Engineer</td>\n",
       "      <td>49383</td>\n",
       "    </tr>\n",
       "    <tr>\n",
       "      <th>300020</th>\n",
       "      <td>Senior Engineer</td>\n",
       "      <td>41002</td>\n",
       "    </tr>\n",
       "    <tr>\n",
       "      <th>300021</th>\n",
       "      <td>Staff</td>\n",
       "      <td>40000</td>\n",
       "    </tr>\n",
       "    <tr>\n",
       "      <th>300022</th>\n",
       "      <td>Staff</td>\n",
       "      <td>52282</td>\n",
       "    </tr>\n",
       "    <tr>\n",
       "      <th>300023</th>\n",
       "      <td>Staff</td>\n",
       "      <td>40000</td>\n",
       "    </tr>\n",
       "  </tbody>\n",
       "</table>\n",
       "<p>300024 rows × 2 columns</p>\n",
       "</div>"
      ],
      "text/plain": [
       "                  Title  Salary\n",
       "0                 Staff   78228\n",
       "1              Engineer   72488\n",
       "2                 Staff   42365\n",
       "3       Senior Engineer   55881\n",
       "4       Senior Engineer   41538\n",
       "...                 ...     ...\n",
       "300019  Senior Engineer   49383\n",
       "300020  Senior Engineer   41002\n",
       "300021            Staff   40000\n",
       "300022            Staff   52282\n",
       "300023            Staff   40000\n",
       "\n",
       "[300024 rows x 2 columns]"
      ]
     },
     "execution_count": 5,
     "metadata": {},
     "output_type": "execute_result"
    }
   ],
   "source": [
    "# Get employee titles and Salaries and put them into a dataframe\n",
    "\n",
    "this = engine.execute('select title, salary from employees inner join salaries on employees.emp_no = salaries.emp_no inner join titles on employees.emp_title_id = titles.title_id').fetchall()\n",
    "\n",
    "title = []\n",
    "salary = []\n",
    "\n",
    "for that in this:\n",
    "    (employee_title, employee_salary) = that\n",
    "    title.append(employee_title)\n",
    "    salary.append(employee_salary)\n",
    "\n",
    "dept_sal = pd.DataFrame({\"Title\": title, \"Salary\": salary})\n",
    "\n",
    "dept_sal"
   ]
  },
  {
   "cell_type": "code",
   "execution_count": 6,
   "metadata": {},
   "outputs": [
    {
     "data": {
      "text/plain": [
       "Text(0.5, 0, 'Salary Ranges($)')"
      ]
     },
     "execution_count": 6,
     "metadata": {},
     "output_type": "execute_result"
    },
    {
     "data": {
      "image/png": "[encoded data removed]",
      "text/plain": [
       "<Figure size 432x288 with 1 Axes>"
      ]
     },
     "metadata": {
      "needs_background": "light"
     },
     "output_type": "display_data"
    }
   ],
   "source": [
    "# Create a histogram to visualize the most common salary ranges for employees.\n",
    "\n",
    "x = dept_sal[\"Salary\"]\n",
    "plt.hist(x)\n",
    "plt.title(\"Employee Salaries\")\n",
    "plt.ylabel(\"Number of Employees\")\n",
    "plt.xlabel(\"Salary Ranges($)\")\n"
   ]
  },
  {
   "cell_type": "code",
   "execution_count": 7,
   "metadata": {},
   "outputs": [
    {
     "data": {
      "text/plain": [
       "Text(0.5, 0, 'Employee Title')"
      ]
     },
     "execution_count": 7,
     "metadata": {},
     "output_type": "execute_result"
    },
    {
     "data": {
      "image/png": "[encoded data removed]",
      "text/plain": [
       "<Figure size 432x288 with 1 Axes>"
      ]
     },
     "metadata": {
      "needs_background": "light"
     },
     "output_type": "display_data"
    }
   ],
   "source": [
    "# Create a bar chart of average salary by title.\n",
    "\n",
    "averages = pd.DataFrame(dept_sal.groupby([\"Title\"]).mean())\n",
    "vals = averages[\"Salary\"].values\n",
    "better_avgs = []\n",
    "for val in vals:\n",
    "    better_avgs.append(round(val,2))\n",
    "averages[\"Salary\"] = better_avgs\n",
    "averages.reset_index(level=0, inplace=True)\n",
    "\n",
    "x = averages[\"Title\"]\n",
    "y = averages[\"Salary\"]\n",
    "\n",
    "plt.bar(x,y)\n",
    "plt.xticks(rotation=\"vertical\")\n",
    "plt.title(\"Average Salary for Each Employee Title\")\n",
    "plt.ylabel(\"Average Salary($)\")\n",
    "plt.xlabel(\"Employee Title\")\n",
    "\n"
   ]
  },
  {
   "cell_type": "code",
   "execution_count": null,
   "metadata": {},
   "outputs": [],
   "source": []
  }
 ],
 "metadata": {
  "anaconda-cloud": {},
  "kernelspec": {
   "display_name": "Python 3",
   "language": "python",
   "name": "python3"
  },
  "language_info": {
   "codemirror_mode": {
    "name": "ipython",
    "version": 3
   },
   "file_extension": ".py",
   "mimetype": "text/x-python",
   "name": "python",
   "nbconvert_exporter": "python",
   "pygments_lexer": "ipython3",
   "version": "3.8.5"
  },
  "varInspector": {
   "cols": {
    "lenName": 16,
    "lenType": 16,
    "lenVar": 40
   },
   "kernels_config": {
    "python": {
     "delete_cmd_postfix": "",
     "delete_cmd_prefix": "del ",
     "library": "var_list.py",
     "varRefreshCmd": "print(var_dic_list())"
    },
    "r": {
     "delete_cmd_postfix": ") ",
     "delete_cmd_prefix": "rm(",
     "library": "var_list.r",
     "varRefreshCmd": "cat(var_dic_list()) "
    }
   },
   "types_to_exclude": [
    "module",
    "function",
    "builtin_function_or_method",
    "instance",
    "_Feature"
   ],
   "window_display": false
  }
 },
 "nbformat": 4,
 "nbformat_minor": 1
}
